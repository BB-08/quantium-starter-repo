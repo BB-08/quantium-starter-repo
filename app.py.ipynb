{
 "cells": [
  {
   "cell_type": "code",
   "execution_count": 90,
   "metadata": {},
   "outputs": [],
   "source": [
    "from dash import Dash, html, dcc, Input, Output, callback\n",
    "import plotly.express as px\n",
    "import pandas as pd"
   ]
  },
  {
   "cell_type": "code",
   "execution_count": 91,
   "metadata": {},
   "outputs": [],
   "source": [
    "df1 = pd.read_csv('data/daily_sales_data_0.csv')\n",
    "df2 = pd.read_csv('data/daily_sales_data_1.csv')\n",
    "df3 = pd.read_csv('data/daily_sales_data_2.csv')\n",
    "\n",
    "# Concatenate the dataframes\n",
    "df = pd.concat([df1, df2, df3], ignore_index=True)\n",
    "df = df[df['product'] == 'pink morsel']"
   ]
  },
  {
   "cell_type": "code",
   "execution_count": 92,
   "metadata": {},
   "outputs": [],
   "source": [
    "# Calculate the total sales\n",
    "df['price'] = df['price'].str.replace('$', '').astype(float)\n",
    "df['sales'] = df['price'] * df['quantity']"
   ]
  },
  {
   "cell_type": "code",
   "execution_count": 93,
   "metadata": {},
   "outputs": [],
   "source": [
    "df = df.drop(columns=['price', 'quantity', 'product'])"
   ]
  },
  {
   "cell_type": "code",
   "execution_count": 94,
   "metadata": {},
   "outputs": [],
   "source": [
    "df.to_csv('data/pink_morsel_sales.csv', index=False)"
   ]
  },
  {
   "cell_type": "code",
   "execution_count": 95,
   "metadata": {},
   "outputs": [],
   "source": [
    "# Define the center date\n",
    "center_date = pd.to_datetime('2021-01-15')\n",
    "df['date'] = pd.to_datetime(df['date'])\n",
    "\n",
    "# Filter ±7 days\n",
    "mask = (df['date'] >= center_date - pd.Timedelta(days=7)) & (df['date'] <= center_date + pd.Timedelta(days=7))\n",
    "df_filtered = df[mask]"
   ]
  },
  {
   "cell_type": "code",
   "execution_count": 96,
   "metadata": {},
   "outputs": [],
   "source": [
    "app = Dash()\n",
    "fig = px.line(\n",
    "    df_filtered,\n",
    "    x='date',\n",
    "    y='sales',\n",
    "    color='region',  # This creates one line per region!\n",
    "    title='Sales Over Time by Region'\n",
    ")"
   ]
  },
  {
   "cell_type": "code",
   "execution_count": 98,
   "metadata": {},
   "outputs": [
    {
     "data": {
      "text/html": [
       "\n",
       "        <iframe\n",
       "            width=\"100%\"\n",
       "            height=\"650\"\n",
       "            src=\"http://127.0.0.1:8050/\"\n",
       "            frameborder=\"0\"\n",
       "            allowfullscreen\n",
       "            \n",
       "        ></iframe>\n",
       "        "
      ],
      "text/plain": [
       "<IPython.lib.display.IFrame at 0x7fb8402cb1f0>"
      ]
     },
     "metadata": {},
     "output_type": "display_data"
    }
   ],
   "source": [
    "# App layout\n",
    "app.layout = html.Div(\n",
    "    children=[\n",
    "        html.H1(\n",
    "            'Sales Dashboard',\n",
    "            style={\n",
    "                'textAlign': 'center',\n",
    "                'color': COLORS[\"secondary\"],\n",
    "                'marginBottom': '20px'\n",
    "            }\n",
    "        ),\n",
    "\n",
    "        html.Div([\n",
    "            html.Label('Filter by region:', style={'fontWeight': 'bold', 'color': COLORS[\"accent\"]}),\n",
    "            dcc.RadioItems(\n",
    "                ['north', 'south', 'east', 'west', 'All'],\n",
    "                'All',\n",
    "                id='region-filter',\n",
    "                inline=True,\n",
    "                style={'marginTop': '10px'},\n",
    "                labelStyle={'margin-right': '15px'}\n",
    "            )\n",
    "        ], style={'textAlign': 'center', 'marginBottom': '30px'}),\n",
    "\n",
    "        dcc.Graph(\n",
    "            id='sales-line-graph',\n",
    "            style={'height': '70vh'}\n",
    "        )\n",
    "    ],\n",
    "    style={\n",
    "        'backgroundColor': COLORS[\"primary\"],\n",
    "        'padding': '30px',\n",
    "        'fontFamily': 'Arial, sans-serif'\n",
    "    }\n",
    ")\n",
    "\n",
    "\n",
    "# Callback to update figure\n",
    "@app.callback(\n",
    "    Output('sales-line-graph', 'figure'),\n",
    "    Input('region-filter', 'value')\n",
    ")\n",
    "def update_graph(selected_region):\n",
    "    if selected_region == 'All':\n",
    "        filtered_df_region = df_filtered\n",
    "    else:\n",
    "        filtered_df_region = df_filtered[df_filtered['region'] == selected_region]\n",
    "\n",
    "    fig = px.line(\n",
    "        filtered_df_region,\n",
    "        x='date',\n",
    "        y='sales',\n",
    "        color='region',\n",
    "        title=f'Sales Over Time by Region: {selected_region.title()}',\n",
    "        markers=True\n",
    "    )\n",
    "\n",
    "    fig.update_layout(\n",
    "        plot_bgcolor=COLORS[\"background\"],\n",
    "        paper_bgcolor=COLORS[\"primary\"],\n",
    "        font_color=COLORS[\"text\"],\n",
    "        title_font_size=22,\n",
    "        title_x=0.5\n",
    "    )\n",
    "    return fig\n",
    "\n",
    "\n",
    "# Run app\n",
    "if __name__ == '__main__':\n",
    "    app.run(debug=True)"
   ]
  },
  {
   "cell_type": "code",
   "execution_count": null,
   "metadata": {},
   "outputs": [],
   "source": []
  }
 ],
 "metadata": {
  "kernelspec": {
   "display_name": "venv",
   "language": "python",
   "name": "python3"
  },
  "language_info": {
   "codemirror_mode": {
    "name": "ipython",
    "version": 3
   },
   "file_extension": ".py",
   "mimetype": "text/x-python",
   "name": "python",
   "nbconvert_exporter": "python",
   "pygments_lexer": "ipython3",
   "version": "3.9.13"
  }
 },
 "nbformat": 4,
 "nbformat_minor": 2
}
