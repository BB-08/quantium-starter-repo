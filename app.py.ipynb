{
 "cells": [
  {
   "cell_type": "code",
   "execution_count": 2,
   "metadata": {},
   "outputs": [
    {
     "name": "stdout",
     "output_type": "stream",
     "text": [
      "Requirement already satisfied: dash[testing] in ./venv/lib/python3.9/site-packages (3.0.1)\n",
      "Requirement already satisfied: plotly>=5.0.0 in ./venv/lib/python3.9/site-packages (from dash[testing]) (6.0.1)\n",
      "Requirement already satisfied: typing-extensions>=4.1.1 in ./venv/lib/python3.9/site-packages (from dash[testing]) (4.13.0)\n",
      "Requirement already satisfied: nest-asyncio in ./venv/lib/python3.9/site-packages (from dash[testing]) (1.6.0)\n",
      "Requirement already satisfied: Werkzeug<3.1 in ./venv/lib/python3.9/site-packages (from dash[testing]) (3.0.6)\n",
      "Requirement already satisfied: importlib-metadata in ./venv/lib/python3.9/site-packages (from dash[testing]) (8.6.1)\n",
      "Requirement already satisfied: Flask<3.1,>=1.0.4 in ./venv/lib/python3.9/site-packages (from dash[testing]) (3.0.3)\n",
      "Requirement already satisfied: setuptools in ./venv/lib/python3.9/site-packages (from dash[testing]) (58.1.0)\n",
      "Requirement already satisfied: requests in ./venv/lib/python3.9/site-packages (from dash[testing]) (2.32.3)\n",
      "Requirement already satisfied: retrying in ./venv/lib/python3.9/site-packages (from dash[testing]) (1.3.4)\n",
      "Requirement already satisfied: waitress>=1.4.4 in ./venv/lib/python3.9/site-packages (from dash[testing]) (3.0.2)\n",
      "Requirement already satisfied: lxml>=4.6.2 in ./venv/lib/python3.9/site-packages (from dash[testing]) (5.3.1)\n",
      "Requirement already satisfied: selenium<=4.2.0,>=3.141.0 in ./venv/lib/python3.9/site-packages (from dash[testing]) (4.2.0)\n",
      "Requirement already satisfied: multiprocess>=0.70.12 in ./venv/lib/python3.9/site-packages (from dash[testing]) (0.70.17)\n",
      "Requirement already satisfied: dash-testing-stub>=0.0.2 in ./venv/lib/python3.9/site-packages (from dash[testing]) (0.0.2)\n",
      "Requirement already satisfied: psutil>=5.8.0 in ./venv/lib/python3.9/site-packages (from dash[testing]) (7.0.0)\n",
      "Requirement already satisfied: cryptography in ./venv/lib/python3.9/site-packages (from dash[testing]) (44.0.2)\n",
      "Requirement already satisfied: percy>=2.0.2 in ./venv/lib/python3.9/site-packages (from dash[testing]) (2.0.2)\n",
      "Requirement already satisfied: pytest>=6.0.2 in ./venv/lib/python3.9/site-packages (from dash[testing]) (8.3.5)\n",
      "Requirement already satisfied: beautifulsoup4>=4.8.2 in ./venv/lib/python3.9/site-packages (from dash[testing]) (4.13.3)\n",
      "Requirement already satisfied: soupsieve>1.2 in ./venv/lib/python3.9/site-packages (from beautifulsoup4>=4.8.2->dash[testing]) (2.6)\n",
      "Requirement already satisfied: Jinja2>=3.1.2 in ./venv/lib/python3.9/site-packages (from Flask<3.1,>=1.0.4->dash[testing]) (3.1.6)\n",
      "Requirement already satisfied: blinker>=1.6.2 in ./venv/lib/python3.9/site-packages (from Flask<3.1,>=1.0.4->dash[testing]) (1.9.0)\n",
      "Requirement already satisfied: click>=8.1.3 in ./venv/lib/python3.9/site-packages (from Flask<3.1,>=1.0.4->dash[testing]) (8.1.8)\n",
      "Requirement already satisfied: itsdangerous>=2.1.2 in ./venv/lib/python3.9/site-packages (from Flask<3.1,>=1.0.4->dash[testing]) (2.2.0)\n",
      "Requirement already satisfied: zipp>=3.20 in ./venv/lib/python3.9/site-packages (from importlib-metadata->dash[testing]) (3.21.0)\n",
      "Requirement already satisfied: dill>=0.3.9 in ./venv/lib/python3.9/site-packages (from multiprocess>=0.70.12->dash[testing]) (0.3.9)\n",
      "Requirement already satisfied: packaging in ./venv/lib/python3.9/site-packages (from plotly>=5.0.0->dash[testing]) (24.2)\n",
      "Requirement already satisfied: narwhals>=1.15.1 in ./venv/lib/python3.9/site-packages (from plotly>=5.0.0->dash[testing]) (1.32.0)\n",
      "Requirement already satisfied: exceptiongroup>=1.0.0rc8 in ./venv/lib/python3.9/site-packages (from pytest>=6.0.2->dash[testing]) (1.2.2)\n",
      "Requirement already satisfied: tomli>=1 in ./venv/lib/python3.9/site-packages (from pytest>=6.0.2->dash[testing]) (2.2.1)\n",
      "Requirement already satisfied: iniconfig in ./venv/lib/python3.9/site-packages (from pytest>=6.0.2->dash[testing]) (2.1.0)\n",
      "Requirement already satisfied: pluggy<2,>=1.5 in ./venv/lib/python3.9/site-packages (from pytest>=6.0.2->dash[testing]) (1.5.0)\n",
      "Requirement already satisfied: urllib3<3,>=1.21.1 in ./venv/lib/python3.9/site-packages (from requests->dash[testing]) (1.26.20)\n",
      "Requirement already satisfied: certifi>=2017.4.17 in ./venv/lib/python3.9/site-packages (from requests->dash[testing]) (2025.1.31)\n",
      "Requirement already satisfied: idna<4,>=2.5 in ./venv/lib/python3.9/site-packages (from requests->dash[testing]) (3.10)\n",
      "Requirement already satisfied: charset-normalizer<4,>=2 in ./venv/lib/python3.9/site-packages (from requests->dash[testing]) (3.4.1)\n",
      "Requirement already satisfied: trio-websocket~=0.9 in ./venv/lib/python3.9/site-packages (from selenium<=4.2.0,>=3.141.0->dash[testing]) (0.12.2)\n",
      "Requirement already satisfied: trio~=0.17 in ./venv/lib/python3.9/site-packages (from selenium<=4.2.0,>=3.141.0->dash[testing]) (0.29.0)\n",
      "Requirement already satisfied: MarkupSafe>=2.1.1 in ./venv/lib/python3.9/site-packages (from Werkzeug<3.1->dash[testing]) (3.0.2)\n",
      "Requirement already satisfied: cffi>=1.12 in ./venv/lib/python3.9/site-packages (from cryptography->dash[testing]) (1.17.1)\n",
      "Requirement already satisfied: six>=1.7.0 in ./venv/lib/python3.9/site-packages (from retrying->dash[testing]) (1.17.0)\n",
      "Requirement already satisfied: pycparser in ./venv/lib/python3.9/site-packages (from cffi>=1.12->cryptography->dash[testing]) (2.22)\n",
      "Requirement already satisfied: sniffio>=1.3.0 in ./venv/lib/python3.9/site-packages (from trio~=0.17->selenium<=4.2.0,>=3.141.0->dash[testing]) (1.3.1)\n",
      "Requirement already satisfied: outcome in ./venv/lib/python3.9/site-packages (from trio~=0.17->selenium<=4.2.0,>=3.141.0->dash[testing]) (1.3.0.post0)\n",
      "Requirement already satisfied: attrs>=23.2.0 in ./venv/lib/python3.9/site-packages (from trio~=0.17->selenium<=4.2.0,>=3.141.0->dash[testing]) (25.3.0)\n",
      "Requirement already satisfied: sortedcontainers in ./venv/lib/python3.9/site-packages (from trio~=0.17->selenium<=4.2.0,>=3.141.0->dash[testing]) (2.4.0)\n",
      "Requirement already satisfied: wsproto>=0.14 in ./venv/lib/python3.9/site-packages (from trio-websocket~=0.9->selenium<=4.2.0,>=3.141.0->dash[testing]) (1.2.0)\n",
      "Requirement already satisfied: pyOpenSSL>=0.14 in ./venv/lib/python3.9/site-packages (from urllib3<3,>=1.21.1->requests->dash[testing]) (25.0.0)\n",
      "Requirement already satisfied: urllib3-secure-extra in ./venv/lib/python3.9/site-packages (from urllib3<3,>=1.21.1->requests->dash[testing]) (0.1.0)\n",
      "Requirement already satisfied: PySocks!=1.5.7,<2.0,>=1.5.6 in ./venv/lib/python3.9/site-packages (from urllib3<3,>=1.21.1->requests->dash[testing]) (1.7.1)\n",
      "Requirement already satisfied: h11<1,>=0.9.0 in ./venv/lib/python3.9/site-packages (from wsproto>=0.14->trio-websocket~=0.9->selenium<=4.2.0,>=3.141.0->dash[testing]) (0.14.0)\n",
      "\u001b[33mWARNING: You are using pip version 22.0.4; however, version 25.0.1 is available.\n",
      "You should consider upgrading via the '/Users/trikushmehta/practice/quantium-starter-repo/venv/bin/python -m pip install --upgrade pip' command.\u001b[0m\u001b[33m\n",
      "\u001b[0mNote: you may need to restart the kernel to use updated packages.\n"
     ]
    }
   ],
   "source": [
    "pip install \"dash[testing]\""
   ]
  },
  {
   "cell_type": "code",
   "execution_count": 15,
   "metadata": {},
   "outputs": [],
   "source": [
    "from dash import Dash, html, dcc\n",
    "import plotly.express as px\n",
    "import pandas as pd"
   ]
  },
  {
   "cell_type": "code",
   "execution_count": 16,
   "metadata": {},
   "outputs": [],
   "source": [
    "df1 = pd.read_csv('data/daily_sales_data_0.csv')\n",
    "df2 = pd.read_csv('data/daily_sales_data_1.csv')\n",
    "df3 = pd.read_csv('data/daily_sales_data_2.csv')\n",
    "\n",
    "# Concatenate the dataframes\n",
    "df = pd.concat([df1, df2, df3], ignore_index=True)\n",
    "df = df[df['product'] == 'pink morsel']"
   ]
  },
  {
   "cell_type": "code",
   "execution_count": 17,
   "metadata": {},
   "outputs": [],
   "source": [
    "# Calculate the total sales\n",
    "df['price'] = df['price'].str.replace('$', '').astype(float)\n",
    "df['sales'] = df['price'] * df['quantity']"
   ]
  },
  {
   "cell_type": "code",
   "execution_count": 18,
   "metadata": {},
   "outputs": [],
   "source": [
    "df = df.drop(columns=['price', 'quantity', 'product'])"
   ]
  },
  {
   "cell_type": "code",
   "execution_count": 23,
   "metadata": {},
   "outputs": [
    {
     "data": {
      "text/plain": [
       "0        2018-02-06\n",
       "1        2018-02-06\n",
       "2        2018-02-06\n",
       "3        2018-02-06\n",
       "28       2018-02-07\n",
       "            ...    \n",
       "41107    2022-02-13\n",
       "41132    2022-02-14\n",
       "41133    2022-02-14\n",
       "41134    2022-02-14\n",
       "41135    2022-02-14\n",
       "Name: date, Length: 5880, dtype: object"
      ]
     },
     "execution_count": 23,
     "metadata": {},
     "output_type": "execute_result"
    }
   ],
   "source": [
    "df['date']"
   ]
  },
  {
   "cell_type": "code",
   "execution_count": 20,
   "metadata": {},
   "outputs": [],
   "source": [
    "df.to_csv('data/pink_morsel_sales.csv', index=False)"
   ]
  },
  {
   "cell_type": "code",
   "execution_count": 32,
   "metadata": {},
   "outputs": [],
   "source": [
    "# Define the center date\n",
    "center_date = pd.to_datetime('2021-01-15')\n",
    "df['date'] = pd.to_datetime(df['date'])\n",
    "\n",
    "# Filter ±7 days\n",
    "mask = (df['date'] >= center_date - pd.Timedelta(days=7)) & (df['date'] <= center_date + pd.Timedelta(days=7))\n",
    "df_filtered = df[mask]"
   ]
  },
  {
   "cell_type": "code",
   "execution_count": 35,
   "metadata": {},
   "outputs": [],
   "source": [
    "app = Dash()\n",
    "fig = px.line(\n",
    "    df_filtered,\n",
    "    x='date',\n",
    "    y='sales',\n",
    "    color='region',  # This creates one line per region!\n",
    "    title='Sales Over Time by Region'\n",
    ")"
   ]
  },
  {
   "cell_type": "code",
   "execution_count": 36,
   "metadata": {},
   "outputs": [
    {
     "data": {
      "text/html": [
       "\n",
       "        <iframe\n",
       "            width=\"100%\"\n",
       "            height=\"650\"\n",
       "            src=\"http://127.0.0.1:8050/\"\n",
       "            frameborder=\"0\"\n",
       "            allowfullscreen\n",
       "            \n",
       "        ></iframe>\n",
       "        "
      ],
      "text/plain": [
       "<IPython.lib.display.IFrame at 0x7fb858d4ec10>"
      ]
     },
     "metadata": {},
     "output_type": "display_data"
    }
   ],
   "source": [
    "app.layout = html.Div([\n",
    "    html.H1('Sales Dashboard'),\n",
    "    dcc.Graph(\n",
    "        id='sales-line-graph',\n",
    "        figure=fig\n",
    "    )\n",
    "])\n",
    "if __name__ == '__main__':\n",
    "    app.run(debug=True)"
   ]
  },
  {
   "cell_type": "code",
   "execution_count": null,
   "metadata": {},
   "outputs": [],
   "source": []
  },
  {
   "cell_type": "code",
   "execution_count": null,
   "metadata": {},
   "outputs": [],
   "source": []
  }
 ],
 "metadata": {
  "kernelspec": {
   "display_name": "venv",
   "language": "python",
   "name": "python3"
  },
  "language_info": {
   "codemirror_mode": {
    "name": "ipython",
    "version": 3
   },
   "file_extension": ".py",
   "mimetype": "text/x-python",
   "name": "python",
   "nbconvert_exporter": "python",
   "pygments_lexer": "ipython3",
   "version": "3.9.13"
  }
 },
 "nbformat": 4,
 "nbformat_minor": 2
}
